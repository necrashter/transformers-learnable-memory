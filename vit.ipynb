{
 "cells": [
  {
   "cell_type": "markdown",
   "id": "bb90d44e",
   "metadata": {},
   "source": [
    "<center><h1>Fine-tuning Image Transformers using Learnable Memory</h1></center>"
   ]
  },
  {
   "cell_type": "code",
   "execution_count": 1,
   "id": "069072db",
   "metadata": {},
   "outputs": [],
   "source": [
    "%matplotlib inline\n",
    "# Built-in IPython extension to reload modules when updated.\n",
    "%load_ext autoreload\n",
    "%autoreload 2"
   ]
  },
  {
   "cell_type": "code",
   "execution_count": 2,
   "id": "25af8812",
   "metadata": {},
   "outputs": [
    {
     "name": "stderr",
     "output_type": "stream",
     "text": [
      "2023-05-19 12:54:30.334573: I tensorflow/core/platform/cpu_feature_guard.cc:193] This TensorFlow binary is optimized with oneAPI Deep Neural Network Library (oneDNN) to use the following CPU instructions in performance-critical operations:  AVX2 FMA\n",
      "To enable them in other operations, rebuild TensorFlow with the appropriate compiler flags.\n",
      "2023-05-19 12:54:30.841504: W tensorflow/compiler/xla/stream_executor/platform/default/dso_loader.cc:64] Could not load dynamic library 'libnvinfer.so.7'; dlerror: libnvrtc.so.11.1: cannot open shared object file: No such file or directory\n",
      "2023-05-19 12:54:30.841656: W tensorflow/compiler/xla/stream_executor/platform/default/dso_loader.cc:64] Could not load dynamic library 'libnvinfer_plugin.so.7'; dlerror: libnvrtc.so.11.1: cannot open shared object file: No such file or directory\n",
      "2023-05-19 12:54:30.841664: W tensorflow/compiler/tf2tensorrt/utils/py_utils.cc:38] TF-TRT Warning: Cannot dlopen some TensorRT libraries. If you would like to use Nvidia GPU with TensorRT, please make sure the missing libraries mentioned above are installed properly.\n"
     ]
    },
    {
     "name": "stdout",
     "output_type": "stream",
     "text": [
      "Random seed set as 42\n"
     ]
    }
   ],
   "source": [
    "import torch\n",
    "import torch.nn as nn\n",
    "import torch.optim as optim\n",
    "from torch.utils.data import DataLoader\n",
    "from torchvision import datasets, transforms\n",
    "import transformers\n",
    "from transformers import ViTModel, ViTConfig, ViTForImageClassification\n",
    "from tqdm.auto import tqdm\n",
    "import os\n",
    "import matplotlib.pyplot as plt\n",
    "from IPython.display import clear_output\n",
    "from copy import deepcopy\n",
    "import random\n",
    "device = \"cuda:0\"\n",
    "seed = 42\n",
    "random.seed(seed)\n",
    "torch.manual_seed(seed)\n",
    "torch.cuda.manual_seed(seed)\n",
    "torch.backends.cudnn.deterministic = True\n",
    "torch.backends.cudnn.benchmark = False\n",
    "os.environ[\"PYTHONHASHSEED\"] = str(seed)\n",
    "print(f\"Random seed set as {seed}\")\n",
    "\n",
    "device = torch.device(\"cuda\" if torch.cuda.is_available() else \"cpu\")\n",
    "\n",
    "# Directories for cache and datasets\n",
    "home_dir = os.path.expanduser('~')\n",
    "cache_dir = os.path.join(home_dir, \"ceng502\")\n",
    "datasets_dir = os.path.join(home_dir, \"datasets\")\n",
    "\n",
    "# Uncomment if you don't want to see warnings\n",
    "# transformers.logging.set_verbosity_error()"
   ]
  },
  {
   "cell_type": "code",
   "execution_count": 3,
   "id": "7b14a99d",
   "metadata": {},
   "outputs": [],
   "source": [
    "def pretrained_model(\n",
    "        model_name = 'google/vit-base-patch32-224-in21k',\n",
    "        num_classes = 10,\n",
    "        ):\n",
    "    config = ViTConfig.from_pretrained(model_name, num_labels=num_classes, cache_dir=cache_dir)\n",
    "    model = ViTForImageClassification.from_pretrained(model_name, config=config, cache_dir=cache_dir)\n",
    "    model = model.to(device)\n",
    "    return model"
   ]
  },
  {
   "cell_type": "markdown",
   "id": "bda33444",
   "metadata": {},
   "source": [
    "# Datasets"
   ]
  },
  {
   "cell_type": "code",
   "execution_count": 4,
   "id": "346e12bc",
   "metadata": {},
   "outputs": [
    {
     "name": "stdout",
     "output_type": "stream",
     "text": [
      "Files already downloaded and verified\n",
      "Files already downloaded and verified\n",
      "Files already downloaded and verified\n",
      "Files already downloaded and verified\n"
     ]
    }
   ],
   "source": [
    "# Load and preprocess the dataset\n",
    "transform = transforms.Compose([\n",
    "    transforms.Resize((224, 224)),\n",
    "    transforms.ToTensor(),\n",
    "    #transforms.Normalize(mean=[0.485, 0.456, 0.406], std=[0.229, 0.224, 0.225])\n",
    "])\n",
    "\n",
    "batch_size = 64\n",
    "\n",
    "# CIFAR10\n",
    "cifar10_train_dataset = datasets.CIFAR10(root=datasets_dir, train=True, transform=transform, download=True)\n",
    "cifar10_train_loader = DataLoader(dataset=cifar10_train_dataset, batch_size=batch_size, shuffle=True)\n",
    "cifar10_validation_dataset = datasets.CIFAR10(root=datasets_dir, train=False, transform=transform, download=True)\n",
    "cifar10_validation_loader = DataLoader(dataset=cifar10_validation_dataset, batch_size=batch_size, shuffle=False)\n",
    "\n",
    "# CIFAR100\n",
    "cifar100_train_dataset = datasets.CIFAR100(root=datasets_dir, train=True, transform=transform, download=True)\n",
    "cifar100_train_loader = DataLoader(dataset=cifar100_train_dataset, batch_size=batch_size, shuffle=True)\n",
    "cifar100_validation_dataset = datasets.CIFAR100(root=datasets_dir, train=False, transform=transform, download=True)\n",
    "cifar100_validation_loader = DataLoader(dataset=cifar100_validation_dataset, batch_size=batch_size, shuffle=False)\n",
    "\n",
    "# MNIST\n",
    "transform = transforms.Compose([\n",
    "    transforms.Grayscale(num_output_channels=3),\n",
    "    transforms.Resize((224, 224)),\n",
    "    transforms.ToTensor(),\n",
    "])\n",
    "mnist_train_dataset = datasets.MNIST(root=datasets_dir, train=True, transform=transform, download=True)\n",
    "mnist_train_loader = DataLoader(dataset=mnist_train_dataset, batch_size=batch_size, shuffle=True)\n",
    "mnist_validation_dataset = datasets.MNIST(root=datasets_dir, train=False, transform=transform, download=True)\n",
    "mnist_validation_loader = DataLoader(dataset=mnist_validation_dataset, batch_size=batch_size, shuffle=False)"
   ]
  },
  {
   "cell_type": "markdown",
   "id": "0690ff7a",
   "metadata": {},
   "source": [
    "# Training and Validation Code"
   ]
  },
  {
   "cell_type": "code",
   "execution_count": 5,
   "id": "6c5f578f",
   "metadata": {},
   "outputs": [],
   "source": [
    "def train(model, optimizer,\n",
    "          dataloader,\n",
    "          # The index of output head. For MemoryCapableViT only.\n",
    "          output_head=None,\n",
    "          num_epochs = 10,\n",
    "         ):\n",
    "    model.train()\n",
    "    criterion = nn.CrossEntropyLoss()\n",
    "    losses = []\n",
    "    for epoch in tqdm(range(num_epochs), leave=False):\n",
    "        train_loss = 0.0\n",
    "        for batch_idx, (data, targets) in enumerate(tqdm(dataloader, leave=False)):\n",
    "            data = data.to(device)\n",
    "            targets = targets.to(device)\n",
    "\n",
    "            # Forward pass\n",
    "            outputs = model(data)\n",
    "            if output_head is not None:\n",
    "                outputs = outputs[output_head]\n",
    "            loss = criterion(outputs.logits, targets)\n",
    "            loss_val = loss.detach().cpu().item()\n",
    "            losses.append(loss_val)\n",
    "            train_loss += loss_val\n",
    "\n",
    "            optimizer.zero_grad()\n",
    "            loss.backward()\n",
    "            optimizer.step()\n",
    "\n",
    "        #print(f\"Epoch {epoch + 1}/{num_epochs} loss: {train_loss}\")\n",
    "\n",
    "        clear_output(wait=True)\n",
    "        plt.plot(losses)\n",
    "        plt.show()"
   ]
  },
  {
   "cell_type": "code",
   "execution_count": 6,
   "id": "f67536e5",
   "metadata": {},
   "outputs": [],
   "source": [
    "def validate(model, dataloader, output_head=None):\n",
    "    correct = 0\n",
    "    total = 0\n",
    "    model.eval()\n",
    "    with torch.no_grad():\n",
    "        for data, targets in tqdm(dataloader, leave=False):\n",
    "            data = data.to(device)\n",
    "            targets = targets.to(device)\n",
    "\n",
    "            outputs = model(data)\n",
    "            if output_head is not None:\n",
    "                outputs = outputs[output_head]\n",
    "            _, predicted = torch.max(outputs.logits, 1)\n",
    "            total += targets.size(0)\n",
    "            correct += (predicted == targets).sum().item()\n",
    "    \n",
    "    return correct / total"
   ]
  },
  {
   "cell_type": "markdown",
   "id": "e24929fa",
   "metadata": {},
   "source": [
    "# Full Finetuning"
   ]
  },
  {
   "cell_type": "code",
   "execution_count": 7,
   "id": "087ee8c0",
   "metadata": {
    "scrolled": true
   },
   "outputs": [
    {
     "data": {
      "image/png": "[encoded data removed]",
      "text/plain": [
       "<Figure size 640x480 with 1 Axes>"
      ]
     },
     "metadata": {},
     "output_type": "display_data"
    }
   ],
   "source": [
    "model = pretrained_model()\n",
    "train(model, optim.Adam(model.parameters(), lr=3e-4), cifar10_train_loader, num_epochs=1)"
   ]
  },
  {
   "cell_type": "code",
   "execution_count": 8,
   "id": "104b83c1",
   "metadata": {},
   "outputs": [
    {
     "data": {
      "application/vnd.jupyter.widget-view+json": {
       "model_id": "",
       "version_major": 2,
       "version_minor": 0
      },
      "text/plain": [
       "  0%|          | 0/157 [00:00<?, ?it/s]"
      ]
     },
     "metadata": {},
     "output_type": "display_data"
    },
    {
     "data": {
      "text/plain": [
       "0.9254"
      ]
     },
     "execution_count": 8,
     "metadata": {},
     "output_type": "execute_result"
    }
   ],
   "source": [
    "validate(model, cifar10_validation_loader)"
   ]
  },
  {
   "cell_type": "markdown",
   "id": "59a96e5a",
   "metadata": {},
   "source": [
    "# Class+Head Only Finetuning\n"
   ]
  },
  {
   "cell_type": "code",
   "execution_count": 7,
   "id": "83c08836",
   "metadata": {},
   "outputs": [
    {
     "data": {
      "image/png": "[encoded data removed]",
      "text/plain": [
       "<Figure size 640x480 with 1 Axes>"
      ]
     },
     "metadata": {},
     "output_type": "display_data"
    }
   ],
   "source": [
    "model = pretrained_model()\n",
    "train(model,\n",
    "      optim.Adam([model.vit.embeddings.cls_token] + list(model.classifier.parameters()), lr=3e-4),\n",
    "      cifar10_train_loader,\n",
    "      num_epochs=1,\n",
    "     )"
   ]
  },
  {
   "cell_type": "code",
   "execution_count": 8,
   "id": "755782b8",
   "metadata": {},
   "outputs": [
    {
     "data": {
      "application/vnd.jupyter.widget-view+json": {
       "model_id": "",
       "version_major": 2,
       "version_minor": 0
      },
      "text/plain": [
       "  0%|          | 0/157 [00:00<?, ?it/s]"
      ]
     },
     "metadata": {},
     "output_type": "display_data"
    },
    {
     "data": {
      "text/plain": [
       "0.9305"
      ]
     },
     "execution_count": 8,
     "metadata": {},
     "output_type": "execute_result"
    }
   ],
   "source": [
    "validate(model, cifar10_validation_loader)"
   ]
  },
  {
   "cell_type": "markdown",
   "id": "8df92831",
   "metadata": {},
   "source": [
    "This will be used as a base model for the next experiment."
   ]
  },
  {
   "cell_type": "code",
   "execution_count": 9,
   "id": "a108d90b",
   "metadata": {},
   "outputs": [],
   "source": [
    "base_model = model"
   ]
  },
  {
   "cell_type": "markdown",
   "id": "1826e977",
   "metadata": {},
   "source": [
    "# Memory Token\n",
    "\n",
    "First we convert our model to a `MemoryCapableViT`. This makes it possible to add new classification heads with memory tokens. It also takes care of the attention masking."
   ]
  },
  {
   "cell_type": "code",
   "execution_count": 10,
   "id": "cd42d044",
   "metadata": {},
   "outputs": [],
   "source": [
    "from vit import MemoryCapableViT\n",
    "model = MemoryCapableViT(deepcopy(base_model))"
   ]
  },
  {
   "cell_type": "markdown",
   "id": "3bb3df8b",
   "metadata": {},
   "source": [
    "By default, wrapping a `ViTForImageClassification` into `MemoryCapableViT` doesn't change anything apart from some under-the-hood modifications (e.g. class token is inserted at the end instead of the beginning).\n",
    "\n",
    "Let's check whether they are actually equivalent by running the validation again. Note that since `MemoryCapableViT` can have multiple heads, we need to specify which head's output to use. Since we currently have only one head, its index is 0."
   ]
  },
  {
   "cell_type": "code",
   "execution_count": 12,
   "id": "12078718",
   "metadata": {},
   "outputs": [
    {
     "data": {
      "application/vnd.jupyter.widget-view+json": {
       "model_id": "",
       "version_major": 2,
       "version_minor": 0
      },
      "text/plain": [
       "  0%|          | 0/157 [00:00<?, ?it/s]"
      ]
     },
     "metadata": {},
     "output_type": "display_data"
    },
    {
     "data": {
      "text/plain": [
       "0.9305"
      ]
     },
     "execution_count": 12,
     "metadata": {},
     "output_type": "execute_result"
    }
   ],
   "source": [
    "validate(model, cifar10_validation_loader, output_head=0)"
   ]
  },
  {
   "cell_type": "markdown",
   "id": "14918e03",
   "metadata": {},
   "source": [
    "As expected, this accuracy value is the same as before.\n",
    "\n",
    "For a more rigorous verification, there's a unit test in `test_vit.py` which checks the value of output. You can run all available unit test with `pytest`."
   ]
  },
  {
   "cell_type": "markdown",
   "id": "b4f5e224",
   "metadata": {},
   "source": [
    "## Add new classification head with memory\n",
    "\n",
    "We can now add a new classification head to our model.\n",
    "\n",
    "We will train the new head for CIFAR100 which has 100 classes. There will be 4 memory tokens in each self-attention layer."
   ]
  },
  {
   "cell_type": "code",
   "execution_count": 13,
   "id": "fc9bc98a",
   "metadata": {},
   "outputs": [],
   "source": [
    "new_parameters = model.add_head(memory_tokens=1, num_classes=100)"
   ]
  },
  {
   "cell_type": "markdown",
   "id": "0d3d87e3",
   "metadata": {},
   "source": [
    "The new parameters are returned as a list:\n",
    "- The new class token. Shape: `[1, 1, 768]`.\n",
    "- All memory tokens, one for each self-attention layer. We have 12 self-attention layers. Each has shape `[1, memory_tokens, 768]`.\n",
    "- Weights (of size `[100, 768]`) and biases (of size `[100]`) of the new classifier head.\n",
    "\n",
    "Let's print shapes of these parameters:"
   ]
  },
  {
   "cell_type": "code",
   "execution_count": 14,
   "id": "73b828f8",
   "metadata": {},
   "outputs": [
    {
     "data": {
      "text/plain": [
       "[torch.Size([1, 1, 768]),\n",
       " torch.Size([1, 1, 768]),\n",
       " torch.Size([1, 1, 768]),\n",
       " torch.Size([1, 1, 768]),\n",
       " torch.Size([1, 1, 768]),\n",
       " torch.Size([1, 1, 768]),\n",
       " torch.Size([1, 1, 768]),\n",
       " torch.Size([1, 1, 768]),\n",
       " torch.Size([1, 1, 768]),\n",
       " torch.Size([1, 1, 768]),\n",
       " torch.Size([1, 1, 768]),\n",
       " torch.Size([1, 1, 768]),\n",
       " torch.Size([1, 1, 768]),\n",
       " torch.Size([100, 768]),\n",
       " torch.Size([100])]"
      ]
     },
     "execution_count": 14,
     "metadata": {},
     "output_type": "execute_result"
    }
   ],
   "source": [
    "[p.size() for p in new_parameters]"
   ]
  },
  {
   "cell_type": "markdown",
   "id": "ee571940",
   "metadata": {},
   "source": [
    "After calling the `add_head` method, the attention mask will be updated automatically. This makes sure that the old class tokens don't interact with the new class and memory tokens.\n",
    "\n",
    "<img src=\"images/attention-mask.png\" alt=\"Attention Mask Figure\" style=\"width: 500px;\"/>\n",
    "\n",
    "Let's check whether our attention mask matches the table above. Note that we currently have $\\text{INP}$, $\\text{CLS}$, $C_1$ and $M_1$ in our network."
   ]
  },
  {
   "cell_type": "code",
   "execution_count": 15,
   "id": "13793524",
   "metadata": {},
   "outputs": [
    {
     "data": {
      "text/plain": [
       "tensor([[0., 0., -inf, -inf],\n",
       "        [0., 0., -inf, -inf],\n",
       "        [0., 0., 0., 0.]], device='cuda:0')"
      ]
     },
     "execution_count": 15,
     "metadata": {},
     "output_type": "execute_result"
    }
   ],
   "source": [
    "model.vit.encoder.layer[0].attention.attention.attention_mask[0, 48:, 48:]"
   ]
  },
  {
   "cell_type": "markdown",
   "id": "051331fe",
   "metadata": {},
   "source": [
    "This attention mask is added to the computed attention scores before the softmax is applied.\n",
    "\n",
    "In self-attention layer, we don't insert the memory tokens while calculating the query. Therefore, memory tokens will not attend to other tokens and they won't be present in the output of the self-attention. This also ensures that the attention scores matrix has the same shape as the attention mask."
   ]
  },
  {
   "cell_type": "markdown",
   "id": "8303a676",
   "metadata": {},
   "source": [
    "Let's train the new parameters:"
   ]
  },
  {
   "cell_type": "code",
   "execution_count": 16,
   "id": "1491201d",
   "metadata": {},
   "outputs": [
    {
     "data": {
      "image/png": "[encoded data removed]",
      "text/plain": [
       "<Figure size 640x480 with 1 Axes>"
      ]
     },
     "metadata": {},
     "output_type": "display_data"
    }
   ],
   "source": [
    "train(model,\n",
    "      optim.Adam(new_parameters, lr=3e-4),\n",
    "      cifar100_train_loader,\n",
    "      output_head=1,  # The index of newly added head is 1\n",
    "      num_epochs=2,\n",
    "     )"
   ]
  },
  {
   "cell_type": "code",
   "execution_count": 17,
   "id": "cf3e4db9",
   "metadata": {},
   "outputs": [
    {
     "data": {
      "application/vnd.jupyter.widget-view+json": {
       "model_id": "",
       "version_major": 2,
       "version_minor": 0
      },
      "text/plain": [
       "  0%|          | 0/157 [00:00<?, ?it/s]"
      ]
     },
     "metadata": {},
     "output_type": "display_data"
    },
    {
     "data": {
      "text/plain": [
       "0.7922"
      ]
     },
     "execution_count": 17,
     "metadata": {},
     "output_type": "execute_result"
    }
   ],
   "source": [
    "validate(model, cifar100_validation_loader, output_head=1)"
   ]
  },
  {
   "cell_type": "markdown",
   "id": "b91c95a2",
   "metadata": {},
   "source": [
    "The performance of the previous head should not be affected thanks to attention masking."
   ]
  },
  {
   "cell_type": "code",
   "execution_count": 18,
   "id": "ce96608a",
   "metadata": {},
   "outputs": [
    {
     "data": {
      "application/vnd.jupyter.widget-view+json": {
       "model_id": "",
       "version_major": 2,
       "version_minor": 0
      },
      "text/plain": [
       "  0%|          | 0/157 [00:00<?, ?it/s]"
      ]
     },
     "metadata": {},
     "output_type": "display_data"
    },
    {
     "data": {
      "text/plain": [
       "0.9305"
      ]
     },
     "execution_count": 18,
     "metadata": {},
     "output_type": "execute_result"
    }
   ],
   "source": [
    "validate(model, cifar10_validation_loader, output_head=0)"
   ]
  },
  {
   "cell_type": "markdown",
   "id": "95825d2b",
   "metadata": {},
   "source": [
    "# Model Concatenation\n",
    "\n",
    "Suppose that someone else took the same pretrained network and fine-tuned it on another dataset with memory tokens."
   ]
  },
  {
   "cell_type": "code",
   "execution_count": 19,
   "id": "9039af0c",
   "metadata": {},
   "outputs": [
    {
     "data": {
      "image/png": "[encoded data removed]",
      "text/plain": [
       "<Figure size 640x480 with 1 Axes>"
      ]
     },
     "metadata": {},
     "output_type": "display_data"
    }
   ],
   "source": [
    "model2 = MemoryCapableViT(deepcopy(base_model))\n",
    "new_parameters = model2.add_head(memory_tokens=1, num_classes=10)\n",
    "train(model2,\n",
    "      optim.Adam(new_parameters, lr=3e-4),\n",
    "      mnist_train_loader,  # We are finetuning on MNIST now\n",
    "      output_head=1,  # The index of newly added head is 1\n",
    "      num_epochs=1,\n",
    "     )"
   ]
  },
  {
   "cell_type": "code",
   "execution_count": 20,
   "id": "58148567",
   "metadata": {},
   "outputs": [
    {
     "data": {
      "application/vnd.jupyter.widget-view+json": {
       "model_id": "",
       "version_major": 2,
       "version_minor": 0
      },
      "text/plain": [
       "  0%|          | 0/157 [00:00<?, ?it/s]"
      ]
     },
     "metadata": {},
     "output_type": "display_data"
    },
    {
     "data": {
      "text/plain": [
       "0.9281"
      ]
     },
     "execution_count": 20,
     "metadata": {},
     "output_type": "execute_result"
    }
   ],
   "source": [
    "validate(model2, mnist_validation_loader, output_head=1)"
   ]
  },
  {
   "cell_type": "markdown",
   "id": "3cd105a4",
   "metadata": {},
   "source": [
    "Normally, models exhibit lower performance on the previous dataset after finetuning on a different dataset and separately finetuned models cannot be combined. However, we can achieve all of these with learnable memory method!\n",
    "\n",
    "<img src=\"images/model-concat.png\" alt=\"Model Concatenation Figure\" style=\"width: 600px;\"/>\n",
    "\n",
    "`MemoryCapableViT` offers `concatenate` method. It merges two separately finetuned models. This method operates on the model in-place to use less memory."
   ]
  },
  {
   "cell_type": "code",
   "execution_count": 21,
   "id": "883db116",
   "metadata": {},
   "outputs": [],
   "source": [
    "model.concatenate(model2)"
   ]
  },
  {
   "cell_type": "markdown",
   "id": "0dc4f14d",
   "metadata": {},
   "source": [
    "The combined model has 3 heads: the first one is the original, trained on CIFAR10; the second one trained on CIFAR100; and finally the third one for MNIST. We can now accoplish all of these tasks with a single model without any performance penalty."
   ]
  },
  {
   "cell_type": "code",
   "execution_count": 22,
   "id": "58721b70",
   "metadata": {},
   "outputs": [
    {
     "data": {
      "application/vnd.jupyter.widget-view+json": {
       "model_id": "",
       "version_major": 2,
       "version_minor": 0
      },
      "text/plain": [
       "  0%|          | 0/157 [00:00<?, ?it/s]"
      ]
     },
     "metadata": {},
     "output_type": "display_data"
    },
    {
     "data": {
      "text/plain": [
       "0.9305"
      ]
     },
     "execution_count": 22,
     "metadata": {},
     "output_type": "execute_result"
    }
   ],
   "source": [
    "validate(model, cifar10_validation_loader, output_head=0)"
   ]
  },
  {
   "cell_type": "code",
   "execution_count": 23,
   "id": "25f16dc5",
   "metadata": {},
   "outputs": [
    {
     "data": {
      "application/vnd.jupyter.widget-view+json": {
       "model_id": "",
       "version_major": 2,
       "version_minor": 0
      },
      "text/plain": [
       "  0%|          | 0/157 [00:00<?, ?it/s]"
      ]
     },
     "metadata": {},
     "output_type": "display_data"
    },
    {
     "data": {
      "text/plain": [
       "0.7922"
      ]
     },
     "execution_count": 23,
     "metadata": {},
     "output_type": "execute_result"
    }
   ],
   "source": [
    "validate(model, cifar100_validation_loader, output_head=1)"
   ]
  },
  {
   "cell_type": "code",
   "execution_count": 25,
   "id": "0aa41d85",
   "metadata": {},
   "outputs": [
    {
     "data": {
      "application/vnd.jupyter.widget-view+json": {
       "model_id": "",
       "version_major": 2,
       "version_minor": 0
      },
      "text/plain": [
       "  0%|          | 0/157 [00:00<?, ?it/s]"
      ]
     },
     "metadata": {},
     "output_type": "display_data"
    },
    {
     "data": {
      "text/plain": [
       "0.9281"
      ]
     },
     "execution_count": 25,
     "metadata": {},
     "output_type": "execute_result"
    }
   ],
   "source": [
    "validate(model, mnist_validation_loader, output_head=2)"
   ]
  },
  {
   "cell_type": "markdown",
   "id": "37e2175b",
   "metadata": {},
   "source": [
    "If we inspect the attention mask of the combined model, we should see Table 1 with $\\text{INP}$, $\\text{CLS}$, $C_1$, $M_1$, $C_2$ and $M_2$ columns."
   ]
  },
  {
   "cell_type": "code",
   "execution_count": 26,
   "id": "84022497",
   "metadata": {},
   "outputs": [
    {
     "data": {
      "text/plain": [
       "tensor([[0., 0., -inf, -inf, -inf, -inf],\n",
       "        [0., 0., -inf, -inf, -inf, -inf],\n",
       "        [0., 0., 0., -inf, 0., -inf],\n",
       "        [0., 0., -inf, 0., -inf, 0.]], device='cuda:0')"
      ]
     },
     "execution_count": 26,
     "metadata": {},
     "output_type": "execute_result"
    }
   ],
   "source": [
    "model.vit.encoder.layer[0].attention.attention.attention_mask[0, 48:, 48:]"
   ]
  }
 ],
 "metadata": {
  "kernelspec": {
   "display_name": "Python 3 (ipykernel)",
   "language": "python",
   "name": "python3"
  },
  "language_info": {
   "codemirror_mode": {
    "name": "ipython",
    "version": 3
   },
   "file_extension": ".py",
   "mimetype": "text/x-python",
   "name": "python",
   "nbconvert_exporter": "python",
   "pygments_lexer": "ipython3",
   "version": "3.10.6"
  }
 },
 "nbformat": 4,
 "nbformat_minor": 5
}
